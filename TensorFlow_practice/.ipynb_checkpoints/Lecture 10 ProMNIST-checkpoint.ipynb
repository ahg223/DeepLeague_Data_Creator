{
 "cells": [
  {
   "cell_type": "code",
   "execution_count": 2,
   "metadata": {
    "collapsed": true
   },
   "outputs": [],
   "source": [
    "import tensorflow as tf\n",
    "import random\n",
    "import matplotlib.pyplot as plt\n",
    "\n",
    "tf.set_random_seed(777)\n",
    "from tensorflow.examples.tutorials.mnist import input_data"
   ]
  },
  {
   "cell_type": "code",
   "execution_count": 16,
   "metadata": {},
   "outputs": [
    {
     "name": "stdout",
     "output_type": "stream",
     "text": [
      "Extracting MNIST_data/train-images-idx3-ubyte.gz\n",
      "Extracting MNIST_data/train-labels-idx1-ubyte.gz\n",
      "Extracting MNIST_data/t10k-images-idx3-ubyte.gz\n",
      "Extracting MNIST_data/t10k-labels-idx1-ubyte.gz\n"
     ]
    }
   ],
   "source": [
    "tf.reset_default_graph()\n",
    "mnist=input_data.read_data_sets(\"MNIST_data/\",one_hot=True)\n",
    "\n",
    "learning_rate=0.001\n",
    "training_epoch=15\n",
    "batch_size=100\n",
    "nb_classes=10\n",
    "\n",
    "X=tf.placeholder(tf.float32,[None,784])\n",
    "Y=tf.placeholder(tf.float32,[None,nb_classes])\n",
    "keep_prob=tf.placeholder(tf.float32)\n",
    "\n",
    "W1=tf.get_variable(\"W1\",shape=[784,512],\n",
    "                   initializer=tf.contrib.layers.xavier_initializer())\n",
    "b1=tf.Variable(tf.random_normal([512]),name='bias1')\n",
    "L1=tf.nn.relu(tf.matmul(X,W1)+b1)\n",
    "L1=tf.nn.dropout(L1,keep_prob=keep_prob)\n",
    "\n",
    "W2=tf.get_variable(\"W2\",shape=[512,512],\n",
    "                   initializer=tf.contrib.layers.xavier_initializer())\n",
    "b2=tf.Variable(tf.random_normal([512]),name='bias2')\n",
    "L2=tf.nn.relu(tf.matmul(L1,W2)+b2)\n",
    "L2=tf.nn.dropout(L2,keep_prob=keep_prob)\n",
    "\n",
    "W3=tf.get_variable(\"W3\",shape=[512,512],\n",
    "                   initializer=tf.contrib.layers.xavier_initializer())\n",
    "b3=tf.Variable(tf.random_normal([512]),name='bias3')\n",
    "L3=tf.nn.relu(tf.matmul(L2,W3)+b3)\n",
    "L3=tf.nn.dropout(L3,keep_prob=keep_prob)\n",
    "\n",
    "W4=tf.get_variable(\"W4\",shape=[512,512],\n",
    "                   initializer=tf.contrib.layers.xavier_initializer())\n",
    "b4=tf.Variable(tf.random_normal([512]),name='bias4')\n",
    "L4=tf.nn.relu(tf.matmul(L3,W4)+b4)\n",
    "L4=tf.nn.dropout(L4,keep_prob=keep_prob)\n",
    "\n",
    "W5=tf.get_variable(\"W5\",shape=[512,nb_classes],\n",
    "                   initializer=tf.contrib.layers.xavier_initializer())\n",
    "b5=tf.Variable(tf.random_normal([nb_classes]),name='bias5')\n",
    "hypothesis=tf.matmul(L4,W5)+b5\n",
    "\n",
    "cost=tf.reduce_mean(tf.nn.softmax_cross_entropy_with_logits(logits=hypothesis,labels=Y))\n",
    "optimizer=tf.train.AdamOptimizer(learning_rate=learning_rate).minimize(cost)\n",
    "\n",
    "is_correct=tf.equal(tf.argmax(hypothesis,1),tf.argmax(Y,1))\n",
    "accuracy=tf.reduce_mean(tf.cast(is_correct,tf.float32))\n"
   ]
  },
  {
   "cell_type": "code",
   "execution_count": 19,
   "metadata": {},
   "outputs": [
    {
     "name": "stdout",
     "output_type": "stream",
     "text": [
      "Epoch:    1 cost = 0.499704216\n",
      "Epoch:    2 cost = 0.173876368\n",
      "Epoch:    3 cost = 0.132423311\n",
      "Epoch:    4 cost = 0.110497526\n",
      "Epoch:    5 cost = 0.095091783\n",
      "Epoch:    6 cost = 0.086395669\n",
      "Epoch:    7 cost = 0.076699248\n",
      "Epoch:    8 cost = 0.072320070\n",
      "Epoch:    9 cost = 0.065678008\n",
      "Epoch:   10 cost = 0.061606220\n",
      "Epoch:   11 cost = 0.055923749\n",
      "Epoch:   12 cost = 0.054000391\n",
      "Epoch:   13 cost = 0.050444482\n",
      "Epoch:   14 cost = 0.047927809\n",
      "Epoch:   15 cost = 0.049223731\n",
      "Learning Finsh\n",
      "Accuracy:  0.9827\n",
      "Label:  [2]\n",
      "Prediction:  [2]\n"
     ]
    },
    {
     "data": {
      "image/png": "[encoded data removed]",
      "text/plain": [
       "<matplotlib.figure.Figure at 0x242c1d91b70>"
      ]
     },
     "metadata": {},
     "output_type": "display_data"
    },
    {
     "name": "stdout",
     "output_type": "stream",
     "text": [
      "Label:  [1]\n",
      "Prediction:  [1]\n"
     ]
    },
    {
     "data": {
      "image/png": "[encoded data removed]",
      "text/plain": [
       "<matplotlib.figure.Figure at 0x242c1d92c18>"
      ]
     },
     "metadata": {},
     "output_type": "display_data"
    },
    {
     "name": "stdout",
     "output_type": "stream",
     "text": [
      "Label:  [8]\n",
      "Prediction:  [8]\n"
     ]
    },
    {
     "data": {
      "image/png": "[encoded data removed]",
      "text/plain": [
       "<matplotlib.figure.Figure at 0x242c31daeb8>"
      ]
     },
     "metadata": {},
     "output_type": "display_data"
    },
    {
     "name": "stdout",
     "output_type": "stream",
     "text": [
      "Label:  [7]\n",
      "Prediction:  [7]\n"
     ]
    },
    {
     "data": {
      "image/png": "[encoded data removed]",
      "text/plain": [
       "<matplotlib.figure.Figure at 0x242c00a3198>"
      ]
     },
     "metadata": {},
     "output_type": "display_data"
    },
    {
     "name": "stdout",
     "output_type": "stream",
     "text": [
      "Label:  [6]\n",
      "Prediction:  [6]\n"
     ]
    },
    {
     "data": {
      "image/png": "[encoded data removed]",
      "text/plain": [
       "<matplotlib.figure.Figure at 0x242bf405da0>"
      ]
     },
     "metadata": {},
     "output_type": "display_data"
    },
    {
     "name": "stdout",
     "output_type": "stream",
     "text": [
      "Label:  [2]\n",
      "Prediction:  [2]\n"
     ]
    },
    {
     "data": {
      "image/png": "[encoded data removed]",
      "text/plain": [
       "<matplotlib.figure.Figure at 0x242c17eb400>"
      ]
     },
     "metadata": {},
     "output_type": "display_data"
    },
    {
     "name": "stdout",
     "output_type": "stream",
     "text": [
      "Label:  [8]\n",
      "Prediction:  [8]\n"
     ]
    },
    {
     "data": {
      "image/png": "[encoded data removed]",
      "text/plain": [
       "<matplotlib.figure.Figure at 0x242c1d9e860>"
      ]
     },
     "metadata": {},
     "output_type": "display_data"
    },
    {
     "name": "stdout",
     "output_type": "stream",
     "text": [
      "Label:  [7]\n",
      "Prediction:  [7]\n"
     ]
    },
    {
     "data": {
      "image/png": "[encoded data removed]",
      "text/plain": [
       "<matplotlib.figure.Figure at 0x242c10fa518>"
      ]
     },
     "metadata": {},
     "output_type": "display_data"
    },
    {
     "name": "stdout",
     "output_type": "stream",
     "text": [
      "Label:  [8]\n",
      "Prediction:  [8]\n"
     ]
    },
    {
     "data": {
      "image/png": "[encoded data removed]",
      "text/plain": [
       "<matplotlib.figure.Figure at 0x242c10fa0b8>"
      ]
     },
     "metadata": {},
     "output_type": "display_data"
    },
    {
     "name": "stdout",
     "output_type": "stream",
     "text": [
      "Label:  [0]\n",
      "Prediction:  [0]\n"
     ]
    },
    {
     "data": {
      "image/png": "[encoded data removed]",
      "text/plain": [
       "<matplotlib.figure.Figure at 0x242bf8930b8>"
      ]
     },
     "metadata": {},
     "output_type": "display_data"
    }
   ],
   "source": [
    "sess=tf.Session()\n",
    "sess.run(tf.global_variables_initializer())\n",
    "    \n",
    "for epoch in range(training_epoch):\n",
    "    avg_cost=0\n",
    "    total_batch=int(mnist.train.num_examples/batch_size)\n",
    "        \n",
    "    for i in range(total_batch):\n",
    "        batch_xs,batch_ys=mnist.train.next_batch(batch_size)\n",
    "        feed_dict={X:batch_xs,Y:batch_ys,keep_prob:0.7}\n",
    "        c,_=sess.run([cost,optimizer],feed_dict=feed_dict)\n",
    "        avg_cost+=c/total_batch\n",
    "            \n",
    "    print('Epoch: {:4} cost = {:.9f}'.format(epoch+1,avg_cost))\n",
    "        \n",
    "print('Learning Finsh')\n",
    "    \n",
    "test_feed={X: mnist.test.images, Y: mnist.test.labels,keep_prob:1}\n",
    "print('Accuracy: ',sess.run(accuracy,feed_dict=test_feed))\n",
    "    \n",
    "for _ in range(10):\n",
    "    r=random.randint(0,mnist.test.num_examples -1)\n",
    "    print(\"Label: \",sess.run(tf.argmax(mnist.test.labels[r:r+1],1)))\n",
    "    print(\"Prediction: \",sess.run(tf.argmax(hypothesis,1),feed_dict={X:mnist.test.images[r:r+1],keep_prob:1}))\n",
    "\n",
    "    plt.imshow(mnist.test.images[r:r+1].reshape(28,28),cmap='Greys',interpolation='nearest')\n",
    "    plt.show()\n",
    "    "
   ]
  }
 ],
 "metadata": {
  "kernelspec": {
   "display_name": "Python [conda env:Anaconda3]",
   "language": "python",
   "name": "conda-env-Anaconda3-py"
  },
  "language_info": {
   "codemirror_mode": {
    "name": "ipython",
    "version": 3
   },
   "file_extension": ".py",
   "mimetype": "text/x-python",
   "name": "python",
   "nbconvert_exporter": "python",
   "pygments_lexer": "ipython3",
   "version": "3.6.3"
  }
 },
 "nbformat": 4,
 "nbformat_minor": 2
}
