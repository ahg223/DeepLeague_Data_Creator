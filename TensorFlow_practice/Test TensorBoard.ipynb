{
 "cells": [
  {
   "cell_type": "code",
   "execution_count": 2,
   "metadata": {},
   "outputs": [],
   "source": [
    "import tensorflow as tf\n",
    "\n",
    "a=tf.constant(3.)\n",
    "b=tf.constant(5.)\n",
    "c=a*b\n",
    "\n",
    "c_summ=tf.summary.scalar('point',c)\n",
    "summary=tf.summary.merge_all()\n",
    "\n",
    "with tf.Session() as sess:\n",
    "    writer=tf.summary.FileWriter('C:/Users/user/Desktop/2018/1.WinterVacation/TensorFlow & Python/TensorFlow/board/sample1',sess.graph)\n",
    "    \n",
    "    result=sess.run([summary])\n",
    "    sess.run(tf.global_variables_initializer())\n",
    "    \n",
    "    writer.add_summary(result[0])\n"
   ]
  }
 ],
 "metadata": {
  "kernelspec": {
   "display_name": "Python [default]",
   "language": "python",
   "name": "python3"
  },
  "language_info": {
   "codemirror_mode": {
    "name": "ipython",
    "version": 3
   },
   "file_extension": ".py",
   "mimetype": "text/x-python",
   "name": "python",
   "nbconvert_exporter": "python",
   "pygments_lexer": "ipython3",
   "version": "3.6.3"
  }
 },
 "nbformat": 4,
 "nbformat_minor": 2
}
