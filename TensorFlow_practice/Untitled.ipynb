{
 "cells": [
  {
   "cell_type": "code",
   "execution_count": 17,
   "metadata": {},
   "outputs": [
    {
     "name": "stdout",
     "output_type": "stream",
     "text": [
      "5.0\n",
      "5.0\n",
      "[[[[0]]\n",
      "\n",
      "  [[1]]\n",
      "\n",
      "  [[2]]]]\n",
      "[0 1 2]\n"
     ]
    }
   ],
   "source": [
    "import tensorflow as tf\n",
    "import numpy as np\n",
    "\n",
    "x = np.array([[[[[0]], [[1]], [[2]]]]])\n",
    "\n",
    "sess = tf.Session()\n",
    "c = tf.constant(5.0)\n",
    "print (sess.run(c))\n",
    "\n",
    "\n",
    "c = tf.constant(5.0)\n",
    "with tf.Session():\n",
    "    print(c.eval())\n",
    "\n",
    "y=np.squeeze(x,1)\n",
    "print(y)\n",
    "\n",
    "y=x.flatten()\n",
    "print(y)\n",
    "\n",
    "\n"
   ]
  }
 ],
 "metadata": {
  "kernelspec": {
   "display_name": "Python 3",
   "language": "python",
   "name": "python3"
  },
  "language_info": {
   "codemirror_mode": {
    "name": "ipython",
    "version": 3
   },
   "file_extension": ".py",
   "mimetype": "text/x-python",
   "name": "python",
   "nbconvert_exporter": "python",
   "pygments_lexer": "ipython3",
   "version": "3.7.2"
  }
 },
 "nbformat": 4,
 "nbformat_minor": 2
}
