{
 "cells": [
  {
   "cell_type": "code",
   "execution_count": 17,
   "metadata": {
    "collapsed": true
   },
   "outputs": [],
   "source": [
    "import tensorflow as tf\n",
    "\n",
    "filename_queue=tf.train.string_input_producer(\n",
    "    ['data-04-zoo.csv'],shuffle=False,name='filename_queue')\n",
    "\n",
    "reader=tf.TextLineReader()\n",
    "key,value=reader.read(filename_queue)\n",
    "\n",
    "record_defaults=[[0.] for _ in range(17)]\n",
    "xy=tf.decode_csv(value,record_defaults=record_defaults)\n",
    "\n",
    "train_x_data,train_y_data= tf.train.batch([xy[0:-1],xy[-1:]],batch_size=10)"
   ]
  },
  {
   "cell_type": "code",
   "execution_count": 21,
   "metadata": {
    "collapsed": true
   },
   "outputs": [],
   "source": [
    "nb_classes=7\n",
    "\n",
    "X=tf.placeholder(tf.float32,[None,16])\n",
    "Y=tf.placeholder(tf.int32,[None,1])\n",
    "\n",
    "Y_one_hot=tf.one_hot(Y,nb_classes)\n",
    "Y_one_hot=tf.reshape(Y_one_hot,[-1,nb_classes])\n",
    "\n",
    "W=tf.Variable(tf.random_normal([16,nb_classes]),name='weight')\n",
    "b=tf.Variable(tf.random_normal([nb_classes]),name='bias')\n",
    "\n",
    "logits=tf.matmul(X,W)+b\n",
    "hypothesis=tf.nn.softmax(logits)\n",
    "\n",
    "cost_i=tf.nn.softmax_cross_entropy_with_logits(logits=logits,labels=Y_one_hot)\n",
    "\n",
    "cost=tf.reduce_mean(cost_i)\n",
    "optimizer=tf.train.GradientDescentOptimizer(learning_rate=0.1).minimize(cost)"
   ]
  },
  {
   "cell_type": "code",
   "execution_count": 37,
   "metadata": {},
   "outputs": [
    {
     "name": "stdout",
     "output_type": "stream",
     "text": [
      " Step:     0\t Loss:  5.501\t Acc:  0.00%\n",
      " Step:    10\t Loss:  1.742\t Acc:  70.00%\n",
      " Step:    20\t Loss:  1.410\t Acc:  70.00%\n",
      " Step:    30\t Loss:  1.135\t Acc:  70.00%\n",
      " Step:    40\t Loss:  0.900\t Acc:  70.00%\n",
      " Step:    50\t Loss:  0.709\t Acc:  70.00%\n",
      " Step:    60\t Loss:  0.562\t Acc:  90.00%\n",
      " Step:    70\t Loss:  0.453\t Acc:  90.00%\n",
      " Step:    80\t Loss:  0.374\t Acc:  90.00%\n",
      " Step:    90\t Loss:  0.316\t Acc:  90.00%\n",
      " Step:   100\t Loss:  0.274\t Acc:  90.00%\n",
      " Step:   110\t Loss:  0.242\t Acc:  90.00%\n",
      " Step:   120\t Loss:  0.217\t Acc:  90.00%\n",
      " Step:   130\t Loss:  0.198\t Acc:  100.00%\n",
      " Step:   140\t Loss:  0.182\t Acc:  100.00%\n",
      " Step:   150\t Loss:  0.168\t Acc:  100.00%\n",
      " Step:   160\t Loss:  0.157\t Acc:  100.00%\n",
      " Step:   170\t Loss:  0.148\t Acc:  100.00%\n",
      " Step:   180\t Loss:  0.139\t Acc:  100.00%\n",
      " Step:   190\t Loss:  0.132\t Acc:  100.00%\n",
      "True 2 2\n",
      "False 6 2\n",
      "True 3 3\n",
      "True 0 0\n",
      "True 0 0\n",
      "True 1 1\n",
      "True 0 0\n",
      "True 5 5\n",
      "True 0 0\n",
      "False 2 6\n"
     ]
    }
   ],
   "source": [
    "correct_prediction=(tf.equal(tf.argmax(hypothesis,1),tf.argmax(Y_one_hot,1)))\n",
    "accuracy=tf.reduce_mean(tf.cast(correct_prediction,tf.float32))\n",
    "\n",
    "sess=tf.Session()\n",
    "sess.run(tf.global_variables_initializer())\n",
    "\n",
    "coord=tf.train.Coordinator()\n",
    "threads=tf.train.start_queue_runners(sess=sess,coord=coord)\n",
    "\n",
    "for step in range(200):\n",
    "    x_data,y_data=sess.run([train_x_data,train_y_data])\n",
    "    sess.run(optimizer,feed_dict={X:x_data,Y:y_data})\n",
    "    if step%10==0:\n",
    "        loss,acc=sess.run([cost,accuracy],feed_dict={X:x_data,Y:y_data})\n",
    "        print(\" Step: {:5}\\t Loss: {: .3f}\\t Acc: {: .2%}\".format(step,loss,acc))\n",
    "\n",
    "pred=sess.run(tf.argmax(hypothesis,1),feed_dict={X:x_data})\n",
    "\n",
    "for p,y in zip(pred,y_data.flatten()):\n",
    "    print(p==int(y),p,int(y))\n",
    "        \n",
    "coord.request_stop()\n",
    "coord.join(threads)"
   ]
  },
  {
   "cell_type": "code",
   "execution_count": 43,
   "metadata": {},
   "outputs": [
    {
     "name": "stdout",
     "output_type": "stream",
     "text": [
      "[2 2 3 0 0 1 0 5 0 6]\n",
      "[[ 2.]\n",
      " [ 2.]\n",
      " [ 3.]\n",
      " [ 0.]\n",
      " [ 0.]\n",
      " [ 1.]\n",
      " [ 0.]\n",
      " [ 5.]\n",
      " [ 0.]\n",
      " [ 6.]]\n",
      "[2 2 3 0 0 1 0 5 0 6]\n"
     ]
    }
   ],
   "source": [
    "print(sess.run(tf.argmax(Y_one_hot,1),feed_dict={Y:y_data}))\n",
    "print(y_data)\n",
    "print(sess.run(tf.cast(y_data.flatten(),tf.int32)))"
   ]
  }
 ],
 "metadata": {
  "kernelspec": {
   "display_name": "Python 3",
   "language": "python",
   "name": "python3"
  },
  "language_info": {
   "codemirror_mode": {
    "name": "ipython",
    "version": 3
   },
   "file_extension": ".py",
   "mimetype": "text/x-python",
   "name": "python",
   "nbconvert_exporter": "python",
   "pygments_lexer": "ipython3",
   "version": "3.7.2"
  }
 },
 "nbformat": 4,
 "nbformat_minor": 2
}
